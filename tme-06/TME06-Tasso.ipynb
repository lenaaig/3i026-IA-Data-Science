{
 "cells": [
  {
   "cell_type": "markdown",
   "metadata": {},
   "source": [
    "IA & Data science (3i026) -- 2018-2019\n",
    "--------\n",
    "*&copy; Equipe pédagogique: Manon Ansart, Vincent Guigue, Marie-Jeanne Lesot, Christophe Marsala, Olivier Schwander.*"
   ]
  },
  {
   "cell_type": "markdown",
   "metadata": {},
   "source": [
    "# TD-TME06: méthodes d'ensembles\n",
    "\n",
    "L'objectif de ce TP est d'implémenter des méthodes d'ensembles et de les évaluer. Dans un premier temps, on se focalisera sur l'algorithme de bagging appliqué aux arbres de décision, puis on passera au random forests.\n",
    "\n",
    "Comme précédemment, on ne considére que le cas où les attributs sont tous numériques."
   ]
  },
  {
   "cell_type": "markdown",
   "metadata": {},
   "source": [
    "<font size=\"+1\">**[Q]**</font> **Indiquer dans la boîte ci-dessous vos noms et prénoms :**"
   ]
  },
  {
   "cell_type": "markdown",
   "metadata": {},
   "source": [
    "Lenaïg Tasso"
   ]
  },
  {
   "cell_type": "markdown",
   "metadata": {},
   "source": [
    "<font color=\"RED\" size=\"+1\">**[Q]**</font> **Renommer ce fichier ipython**\n",
    "\n",
    "Tout en haut de cette page, cliquer sur <tt>tme-06</tt> et rajouter à la suite de <tt>tme-06</tt> les noms des membres du binômes séparés par un tiret."
   ]
  },
  {
   "cell_type": "markdown",
   "metadata": {},
   "source": [
    "Charger la librairie <code>iads</code> pour avoir accès aux fonctions déjà écrites."
   ]
  },
  {
   "cell_type": "code",
   "execution_count": 70,
   "metadata": {},
   "outputs": [],
   "source": []
  },
  {
   "cell_type": "code",
   "execution_count": 17,
   "metadata": {},
   "outputs": [],
   "source": [
    "import numpy as np\n",
    "import pandas as pd\n",
    "import matplotlib.pyplot as plt\n",
    "%matplotlib inline  \n",
    "\n",
    "# La ligne suivante permet de préciser le chemin d'accès à la librairie iads\n",
    "import sys\n",
    "sys.path.append('../')\n",
    "\n",
    "# Importation de la librairie iads\n",
    "import iads as iads\n",
    "\n",
    "# importation de LabeledSet\n",
    "from iads import LabeledSet as ls\n",
    "\n",
    "# importation de Classifiers\n",
    "from iads import Classifiers as cl\n",
    "\n",
    "# importation de utils\n",
    "from iads import utils as ut"
   ]
  },
  {
   "cell_type": "code",
   "execution_count": 18,
   "metadata": {},
   "outputs": [],
   "source": [
    "\n",
    "\n",
    "\n",
    "def plot2DSet(set):\n",
    "    \"\"\" LabeledSet -> NoneType\n",
    "        Hypothèse: set est de dimension 2\n",
    "        affiche une représentation graphique du LabeledSet\n",
    "        remarque: l'ordre des labels dans set peut être quelconque\n",
    "    \"\"\"\n",
    "    S_pos = set.x[np.where(set.y == 1),:][0]      # tous les exemples de label +1\n",
    "    S_neg = set.x[np.where(set.y == -1),:][0]     # tous les exemples de label -1\n",
    "    plt.scatter(S_pos[:,0],S_pos[:,1],marker='o') # 'o' pour la classe +1\n",
    "    plt.scatter(S_neg[:,0],S_neg[:,1],marker='x') # 'x' pour la classe -1\n",
    "\n",
    "def plot_frontiere(set,classifier,step=10):\n",
    "    \"\"\" LabeledSet * Classifier * int -> NoneType\n",
    "        Remarque: le 3e argument est optionnel et donne la \"résolution\" du tracé\n",
    "        affiche la frontière de décision associée au classifieur\n",
    "    \"\"\"\n",
    "    mmax=set.x.max(0)\n",
    "    mmin=set.x.min(0)\n",
    "    x1grid,x2grid=np.meshgrid(np.linspace(mmin[0],mmax[0],step),np.linspace(mmin[1],mmax[1],step))\n",
    "    grid=np.hstack((x1grid.reshape(x1grid.size,1),x2grid.reshape(x2grid.size,1)))\n",
    "    \n",
    "    # calcul de la prediction pour chaque point de la grille\n",
    "    res=np.array([classifier.predict(grid[i,:]) for i in range(len(grid)) ])\n",
    "    res=res.reshape(x1grid.shape)\n",
    "    # tracer des frontieres\n",
    "    plt.contourf(x1grid,x2grid,res,colors=[\"red\",\"cyan\"],levels=[-1000,0,1000])\n",
    "    \n",
    "# ------------------------ \n",
    "\n",
    "def createGaussianDataset(positive_center, positive_sigma, negative_center, negative_sigma, nb_points):\n",
    "    \"\"\" \n",
    "        rend un LabeledSet 2D généré aléatoirement.\n",
    "        Arguments:\n",
    "        - positive_center (vecteur taille 2): centre de la gaussienne des points positifs\n",
    "        - positive_sigma (matrice 2*2): variance de la gaussienne des points positifs\n",
    "        - negative_center (vecteur taille 2): centre de la gaussienne des points négative\n",
    "        - negative_sigma (matrice 2*2): variance de la gaussienne des points négative\n",
    "        - nb_points (int):  nombre de points de chaque classe à générer\n",
    "    \"\"\"\n",
    "    #TODO: A Compléter    \n",
    "    label = LabeledSet(2)\n",
    "    points_positifs = np.random.multivariate_normal(positive_center,positive_sigma,nb_points)\n",
    "    points_negatifs = np.random.multivariate_normal(negative_center,negative_sigma,nb_points)\n",
    "    \n",
    "    for i in points_positifs:\n",
    "        label.addExample(i,1)\n",
    "    for i in points_negatifs:\n",
    "        label.addExample(i,-1)\n",
    "    return label\n",
    "\n",
    "\n"
   ]
  },
  {
   "cell_type": "markdown",
   "metadata": {},
   "source": [
    "Pour tester les fonctions à implémenter dans cette séance, on utilise la base d'exemples suivante :"
   ]
  },
  {
   "cell_type": "code",
   "execution_count": null,
   "metadata": {},
   "outputs": [],
   "source": []
  },
  {
   "cell_type": "code",
   "execution_count": 19,
   "metadata": {},
   "outputs": [],
   "source": [
    "# Base d'exemples pour tester les fonctions:\n",
    "set_exemples = ls.LabeledSet(2)\n",
    "set_exemples.addExample([2.10492662303,1.10648470933],1)\n",
    "set_exemples.addExample([0.297525816499,-0.662504551625],1)\n",
    "set_exemples.addExample([1.6694258992,0.313687975072],1)\n",
    "set_exemples.addExample([1.20583098523,3.50817309097],1)\n",
    "set_exemples.addExample([1.13739407316,1.96688273992],1)\n",
    "set_exemples.addExample([2.32319808376,0.536577798714],1)\n",
    "set_exemples.addExample([-0.953004346997,0.596926923927],1)\n",
    "set_exemples.addExample([1.00574784804,-0.0959606771199],1)\n",
    "set_exemples.addExample([0.747509778063,0.429544908608],1)\n",
    "set_exemples.addExample([1.39048336283,0.442578873406],1)\n",
    "set_exemples.addExample([0.0470799329584,-1.97596265858],-1)\n",
    "set_exemples.addExample([-0.673998013071,0.0693931940855],-1)\n",
    "set_exemples.addExample([-0.84587451642,0.761766191612],-1)\n",
    "set_exemples.addExample([-1.39596839858,-0.943807082082],-1)\n",
    "set_exemples.addExample([0.319301767707,0.566169775123],-1)\n",
    "set_exemples.addExample([1.43459714786,0.935712030926],-1)\n",
    "set_exemples.addExample([-1.69323475458,-1.89563184035],-1)\n",
    "set_exemples.addExample([0.81167008598,-1.17927660655],-1)\n",
    "set_exemples.addExample([-1.03264043689,-1.08118488864],-1)\n",
    "set_exemples.addExample([0.609517439986,-2.88593327349],-1)"
   ]
  },
  {
   "cell_type": "markdown",
   "metadata": {},
   "source": [
    "## Etape 1: retours sur la séance 5\n"
   ]
  },
  {
   "cell_type": "markdown",
   "metadata": {},
   "source": [
    "<font color=\"RED\" size=\"+1\">**[Q]**</font> Modifier la fonction <code>shannon()</code> afin qu'elle puisse s'appliquer sur une liste vide ou sur une liste à un seul élément: dans ce cas-là, la fonction rend $0.0$."
   ]
  },
  {
   "cell_type": "code",
   "execution_count": 20,
   "metadata": {},
   "outputs": [],
   "source": [
    "from math import log\n",
    "def shannon(p):\n",
    "    if len(p)<=1:\n",
    "        return 0.0\n",
    "    somme = 0\n",
    "    for i in p:\n",
    "        if(i != 0):\n",
    "            somme+= -1*i*log(i,len(p))\n",
    "    return somme"
   ]
  },
  {
   "cell_type": "code",
   "execution_count": 21,
   "metadata": {},
   "outputs": [
    {
     "name": "stdout",
     "output_type": "stream",
     "text": [
      "P=[]  :  0.0\n",
      "P=[1] :  0.0\n"
     ]
    }
   ],
   "source": [
    "# Exemples d'utilisation:\n",
    "print(\"P=[]  : \", shannon([]))\n",
    "print(\"P=[1] : \", shannon([1]))"
   ]
  },
  {
   "cell_type": "markdown",
   "metadata": {},
   "source": [
    "Recopier les fonctions suivantes à partir de votre notebook du TD-TME05.\n",
    "- classe_majoritaire(LSet)\n",
    "- entropie(LSet)\n",
    "- discretise(LSet, col)\n",
    "- divise(LSet,att,seuil)\n",
    "- construit_AD(LSet,epsilon)\n",
    "\n",
    "ainsi que les classes:\n",
    "- class ArbreBinaire\n",
    "- class ArbreDecision\n",
    "\n",
    "Remplissez la boite suivante en recopiant toutes ces fonctions et classes du TD_TME05."
   ]
  },
  {
   "cell_type": "code",
   "execution_count": 22,
   "metadata": {},
   "outputs": [],
   "source": [
    "def classe_majoritaire(the_set):\n",
    "    somme=0\n",
    "    for i in range(the_set.size()):\n",
    "        somme += the_set.getY(i)\n",
    "    if(somme>=0):\n",
    "        return 1\n",
    "    else:\n",
    "        return -1\n",
    "    \n",
    "def entropie(labeledset):\n",
    "    cptpos = 0\n",
    "    cptneg = 0\n",
    "    for i in range(labeledset.size()):\n",
    "        if (labeledset.getY(i)==1):\n",
    "            cptpos+=1\n",
    "        else : \n",
    "            cptneg+=1\n",
    "    tot = cptpos + cptneg\n",
    "    return shannon([cptpos/(tot*1.), cptneg/(tot*1.)])\n",
    "\n",
    "\n",
    "\n",
    "def discretise(LSet, col):\n",
    "    \"\"\" LabelledSet * int -> tuple[float, float]\n",
    "        Hypothèse: LSet.size() >= 2\n",
    "        col est le numéro de colonne sur X à discrétiser\n",
    "        rend la valeur de coupure qui minimise l'entropie ainsi que son entropie.\n",
    "    \"\"\"\n",
    "    # initialisation:\n",
    "    min_entropie = 1.1  # on met à une valeur max car on veut minimiser\n",
    "    min_seuil = 0.0     \n",
    "    # trie des valeurs:\n",
    "    ind= np.argsort(LSet.x,axis=0)\n",
    "    \n",
    "    # calcul des distributions des classes pour E1 et E2:\n",
    "    inf_plus  = 0               # nombre de +1 dans E1\n",
    "    inf_moins = 0               # nombre de -1 dans E1\n",
    "    sup_plus  = 0               # nombre de +1 dans E2\n",
    "    sup_moins = 0               # nombre de -1 dans E2       \n",
    "    # remarque: au départ on considère que E1 est vide et donc E2 correspond à E. \n",
    "    # Ainsi inf_plus et inf_moins valent 0. Il reste à calculer sup_plus et sup_moins \n",
    "    # dans E.\n",
    "    for j in range(0,LSet.size()):\n",
    "        if (LSet.getY(j) == -1):\n",
    "            sup_moins += 1\n",
    "        else:\n",
    "            sup_plus += 1\n",
    "    nb_total = (sup_plus + sup_moins) # nombre d'exemples total dans E\n",
    "    \n",
    "    # parcours pour trouver le meilleur seuil:\n",
    "    for i in range(len(LSet.x)-1):\n",
    "        v_ind_i = ind[i]   # vecteur d'indices\n",
    "        courant = LSet.getX(v_ind_i[col])[col]\n",
    "        lookahead = LSet.getX(ind[i+1][col])[col]\n",
    "        val_seuil = (courant + lookahead) / 2.0;\n",
    "        # M-A-J de la distrib. des classes:\n",
    "        # pour réduire les traitements: on retire un exemple de E2 et on le place\n",
    "        # dans E1, c'est ainsi que l'on déplace donc le seuil de coupure.\n",
    "        if LSet.getY(ind[i][col])[0] == -1:\n",
    "            inf_moins += 1\n",
    "            sup_moins -= 1\n",
    "        else:\n",
    "            inf_plus += 1\n",
    "            sup_plus -= 1\n",
    "        # calcul de la distribution des classes de chaque côté du seuil:\n",
    "        nb_inf = (inf_moins + inf_plus)*1.0     # rem: on en fait un float pour éviter\n",
    "        nb_sup = (sup_moins + sup_plus)*1.0     # que ce soit une division entière.\n",
    "        # calcul de l'entropie de la coupure\n",
    "        val_entropie_inf = shannon([inf_moins / nb_inf, inf_plus  / nb_inf])\n",
    "        val_entropie_sup = shannon([sup_moins / nb_sup, sup_plus  / nb_sup])\n",
    "        val_entropie = (nb_inf / nb_total) * val_entropie_inf \\\n",
    "                       + (nb_sup / nb_total) * val_entropie_sup\n",
    "        # si cette coupure minimise l'entropie, on mémorise ce seuil et son entropie:\n",
    "        if (min_entropie > val_entropie):\n",
    "            min_entropie = val_entropie\n",
    "            min_seuil = val_seuil\n",
    "    return (min_seuil, min_entropie)\n",
    "\n",
    "def divise(Lset,att,seuil):\n",
    "    \n",
    "    Linf     = ls.LabeledSet(2)\n",
    "    Lsup     = ls.LabeledSet(2)\n",
    "    \n",
    "    \n",
    "    for i in range(Lset.size()):\n",
    "        if Lset.getX(i)[att] < seuil:\n",
    "            Linf.addExample(Lset.getX(i),Lset.getY(i))\n",
    "        else:\n",
    "            Lsup.addExample(Lset.getX(i),Lset.getY(i))\n",
    "    return Linf,Lsup\n",
    "\n",
    "        "
   ]
  },
  {
   "cell_type": "code",
   "execution_count": 24,
   "metadata": {},
   "outputs": [
    {
     "ename": "ModuleNotFoundError",
     "evalue": "No module named 'graphviz'",
     "output_type": "error",
     "traceback": [
      "\u001b[0;31m---------------------------------------------------------------------------\u001b[0m",
      "\u001b[0;31mModuleNotFoundError\u001b[0m                       Traceback (most recent call last)",
      "\u001b[0;32m<ipython-input-24-610adedf7248>\u001b[0m in \u001b[0;36m<module>\u001b[0;34m\u001b[0m\n\u001b[0;32m----> 1\u001b[0;31m \u001b[0;32mimport\u001b[0m \u001b[0mgraphviz\u001b[0m \u001b[0;32mas\u001b[0m \u001b[0mgv\u001b[0m\u001b[0;34m\u001b[0m\u001b[0;34m\u001b[0m\u001b[0m\n\u001b[0m\u001b[1;32m      2\u001b[0m \u001b[0;31m# Eventuellement, il peut être nécessaire d'installer graphviz sur votre compte:\u001b[0m\u001b[0;34m\u001b[0m\u001b[0;34m\u001b[0m\u001b[0;34m\u001b[0m\u001b[0m\n\u001b[1;32m      3\u001b[0m \u001b[0;31m# pip install --user --install-option=\"--prefix=\" -U graphviz\u001b[0m\u001b[0;34m\u001b[0m\u001b[0;34m\u001b[0m\u001b[0;34m\u001b[0m\u001b[0m\n\u001b[1;32m      4\u001b[0m \u001b[0;34m\u001b[0m\u001b[0m\n\u001b[1;32m      5\u001b[0m \u001b[0;34m\u001b[0m\u001b[0m\n",
      "\u001b[0;31mModuleNotFoundError\u001b[0m: No module named 'graphviz'"
     ]
    }
   ],
   "source": [
    "import graphviz as gv\n",
    "# Eventuellement, il peut être nécessaire d'installer graphviz sur votre compte:\n",
    "# pip install --user --install-option=\"--prefix=\" -U graphviz\n",
    "\n",
    "\n",
    "class ArbreBinaire:\n",
    "    def __init__(self):\n",
    "        self.attribut = None   # numéro de l'attribut\n",
    "        self.seuil = None\n",
    "        self.inferieur = None # ArbreBinaire Gauche (valeurs <= au seuil)\n",
    "        self.superieur = None # ArbreBinaire Gauche (valeurs > au seuil)\n",
    "        self.classe = None # Classe si c'est une feuille: -1 ou +1\n",
    "        \n",
    "    def est_feuille(self):\n",
    "        \"\"\" rend True si l'arbre est une feuille \"\"\"\n",
    "        return self.seuil == None\n",
    "    \n",
    "    def ajoute_fils(self,ABinf,ABsup,att,seuil):\n",
    "        \"\"\" ABinf, ABsup: 2 arbres binaires\n",
    "            att: numéro d'attribut\n",
    "            seuil: valeur de seuil\n",
    "        \"\"\"\n",
    "        self.attribut = att\n",
    "        self.seuil = seuil\n",
    "        self.inferieur = ABinf\n",
    "        self.superieur = ABsup\n",
    "    \n",
    "    def ajoute_feuille(self,classe):\n",
    "        \"\"\" classe: -1 ou + 1\n",
    "        \"\"\"\n",
    "        self.classe = classe\n",
    "        \n",
    "    def classifie(self,exemple):\n",
    "        \"\"\" exemple : numpy.array\n",
    "            rend la classe de l'exemple: +1 ou -1\n",
    "        \"\"\"\n",
    "        if self.est_feuille():\n",
    "            return self.classe\n",
    "        if exemple[self.attribut] <= self.seuil:\n",
    "            return self.inferieur.classifie(exemple)\n",
    "        return self.superieur.classifie(exemple)\n",
    "    \n",
    "    def to_graph(self, g, prefixe='A'):\n",
    "        \"\"\" construit une représentation de l'arbre pour pouvoir\n",
    "            l'afficher\n",
    "        \"\"\"\n",
    "        if self.est_feuille():\n",
    "            g.node(prefixe,str(self.classe),shape='box')\n",
    "        else:\n",
    "            g.node(prefixe, str(self.attribut))\n",
    "            self.inferieur.to_graph(g,prefixe+\"g\")\n",
    "            self.superieur.to_graph(g,prefixe+\"d\")\n",
    "            g.edge(prefixe,prefixe+\"g\", '<='+ str(self.seuil))\n",
    "            g.edge(prefixe,prefixe+\"d\", '>'+ str(self.seuil))\n",
    "        \n",
    "        return g\n",
    "    \n",
    "def construit_AD(Lset, epsilon):\n",
    "    arbre = ArbreBinaire()\n",
    "    \n",
    "    if entropie(Lset) <= epsilon:\n",
    "        arbre.ajoute_feuille(classe_majoritaire(Lset))\n",
    "        return arbre\n",
    "    \n",
    "    entropie_min = 1.0\n",
    "    seuil = .0\n",
    "    att = 0\n",
    "    \n",
    "    for c in range(Lset.getInputDimension()):\n",
    "        s, ent = discretise(Lset, c)\n",
    "        if ent < entropie_min:\n",
    "            seuil = s\n",
    "            entropie_min = ent\n",
    "            att = c\n",
    "            \n",
    "    Linf, Lsup = divise(Lset, att, seuil)\n",
    "    arbre.ajoute_fils(construit_AD(Linf, epsilon), construit_AD(Lsup, epsilon), att, seuil)\n",
    "    return arbre\n",
    "\n",
    "\n",
    "class ArbreDecision(cl.Classifier):\n",
    "    # Constructeur\n",
    "    def __init__(self,epsilon):\n",
    "        # valeur seuil d'entropie pour arrêter la construction\n",
    "        self.epsilon= epsilon\n",
    "        self.racine = None\n",
    "    \n",
    "    # Permet de calculer la prediction sur x => renvoie un score\n",
    "    def predict(self,x):\n",
    "        # classification de l'exemple x avec l'arbre de décision\n",
    "        # on rend -1 (classe -1) ou 1 (classe 1)\n",
    "        classe = self.racine.classifie(x)\n",
    "        if (classe == 1):\n",
    "            return(1)\n",
    "        else:\n",
    "            return(-1)\n",
    "    \n",
    "    # Permet d'entrainer le modele sur un ensemble de données\n",
    "    def train(self,set):\n",
    "        # construction de l'arbre de décision \n",
    "        self.set=set\n",
    "        self.racine = construit_AD(set,self.epsilon)\n",
    "\n",
    "    # Permet d'afficher l'arbre\n",
    "    def plot(self):\n",
    "        gtree = gv.Digraph(format='png')\n",
    "        return self.racine.to_graph(gtree)"
   ]
  },
  {
   "cell_type": "markdown",
   "metadata": {},
   "source": [
    "<font color=\"RED\" size=\"+1\">**[Q]**</font> Modifier la fonction <code>construit_ad</code> afin d'utiliser le gain d'information comme critère d'arrêt. \n",
    "\n",
    "L'algorithme est modifié ainsi:\n",
    "\n",
    "Pour construire un arbre de décision, il faut réaliser les étapes suivantes:\n",
    "- si l'entropie de Shannon de l'ensemble courant est inférieure à epsilon (réel positif fixé et qui est un paramètre de l'algorithme), alors construire une feuille avec cet ensemble, la classe associée à cette feuille est la classe majoritaire;\n",
    "- sinon, pour chaque attribut, calculer le seuil de discrétisation et l'entropie de Shannon correspondante\n",
    "    - choisir l'attribut qui donne une valeur d'entropie minimale\n",
    "    - regarder le gain d'information apporté par le test sur les valeurs de cet attribut\n",
    "        - si ce gain est inférieur à epsilon alors construire une feuille avec l'ensemble\n",
    "        - sinon l'attribut choisi sert à constituer un noeud de l'arbre de décision, les arcs issus de ce noeud sont labeller par un test (inférieur ou égal ou supérieur) par rapport au seuil trouvé\n",
    "    \n",
    "On rappelle (cf. cours) que le gain d'information vaut:\n",
    "\n",
    "$$I-s(A_j,Y) = D(Y) - Q_Y(A_j)$$\n",
    "\n",
    "avec $D(Y)$, l'entropie de Shannon de l'ensemble courant, et $Q_Y(A_j)$ l'entropie de de la classe pour la coupure par le seuil trouvé sur l'attribut $A_j$).\n",
    "\n"
   ]
  },
  {
   "cell_type": "code",
   "execution_count": 25,
   "metadata": {},
   "outputs": [],
   "source": [
    "\n",
    "def construit_ADconstruit (Lset, epsilon):\n",
    "    arbre = ArbreBinaire()\n",
    "    entropie_courant = entropie(Lset)\n",
    "    if entropie_courant <= epsilon:\n",
    "        arbre.ajoute_feuille(classe_majoritaire(Lset))\n",
    "        return arbre\n",
    "    \n",
    "    entropie_min = 1.0\n",
    "    seuil = .0\n",
    "    att = 0\n",
    "    \n",
    "    for c in range(Lset.getInputDimension()):\n",
    "        s, ent = discretise(Lset, c)\n",
    "        if ent < entropie_min:\n",
    "            seuil = s\n",
    "            entropie_min = ent\n",
    "            att = c\n",
    "    if (entropie_courant-entropie_min) <epsilon:\n",
    "                arbre.ajoute_feuille(classe_majoritaire(Lset))\n",
    "                return arbre\n",
    "    else:\n",
    "        Linf, Lsup = divise(Lset, att, seuil)\n",
    "        arbre.ajoute_fils(construit_AD(Linf, epsilon), construit_AD(Lsup, epsilon), att, seuil)\n",
    "        return arbre"
   ]
  },
  {
   "cell_type": "code",
   "execution_count": 26,
   "metadata": {},
   "outputs": [
    {
     "ename": "NameError",
     "evalue": "name 'LabeledSet' is not defined",
     "output_type": "error",
     "traceback": [
      "\u001b[0;31m---------------------------------------------------------------------------\u001b[0m",
      "\u001b[0;31mNameError\u001b[0m                                 Traceback (most recent call last)",
      "\u001b[0;32m<ipython-input-26-fa177c91eb96>\u001b[0m in \u001b[0;36m<module>\u001b[0;34m\u001b[0m\n\u001b[0;32m----> 1\u001b[0;31m \u001b[0mthe_set\u001b[0m \u001b[0;34m=\u001b[0m \u001b[0mcreateGaussianDataset\u001b[0m\u001b[0;34m(\u001b[0m\u001b[0mnp\u001b[0m\u001b[0;34m.\u001b[0m\u001b[0marray\u001b[0m\u001b[0;34m(\u001b[0m\u001b[0;34m[\u001b[0m\u001b[0;36m1\u001b[0m\u001b[0;34m,\u001b[0m\u001b[0;36m1\u001b[0m\u001b[0;34m]\u001b[0m\u001b[0;34m)\u001b[0m\u001b[0;34m,\u001b[0m\u001b[0mnp\u001b[0m\u001b[0;34m.\u001b[0m\u001b[0marray\u001b[0m\u001b[0;34m(\u001b[0m\u001b[0;34m[\u001b[0m\u001b[0;34m[\u001b[0m\u001b[0;36m1\u001b[0m\u001b[0;34m,\u001b[0m\u001b[0;36m0\u001b[0m\u001b[0;34m]\u001b[0m\u001b[0;34m,\u001b[0m\u001b[0;34m[\u001b[0m\u001b[0;36m0\u001b[0m\u001b[0;34m,\u001b[0m\u001b[0;36m1\u001b[0m\u001b[0;34m]\u001b[0m\u001b[0;34m]\u001b[0m\u001b[0;34m)\u001b[0m\u001b[0;34m,\u001b[0m\u001b[0mnp\u001b[0m\u001b[0;34m.\u001b[0m\u001b[0marray\u001b[0m\u001b[0;34m(\u001b[0m\u001b[0;34m[\u001b[0m\u001b[0;34m-\u001b[0m\u001b[0;36m1\u001b[0m\u001b[0;34m,\u001b[0m\u001b[0;34m-\u001b[0m\u001b[0;36m1\u001b[0m\u001b[0;34m]\u001b[0m\u001b[0;34m)\u001b[0m\u001b[0;34m,\u001b[0m\u001b[0mnp\u001b[0m\u001b[0;34m.\u001b[0m\u001b[0marray\u001b[0m\u001b[0;34m(\u001b[0m\u001b[0;34m[\u001b[0m\u001b[0;34m[\u001b[0m\u001b[0;36m1\u001b[0m\u001b[0;34m,\u001b[0m\u001b[0;36m0\u001b[0m\u001b[0;34m]\u001b[0m\u001b[0;34m,\u001b[0m\u001b[0;34m[\u001b[0m\u001b[0;36m0\u001b[0m\u001b[0;34m,\u001b[0m\u001b[0;36m1\u001b[0m\u001b[0;34m]\u001b[0m\u001b[0;34m]\u001b[0m\u001b[0;34m)\u001b[0m\u001b[0;34m,\u001b[0m\u001b[0;36m20\u001b[0m\u001b[0;34m)\u001b[0m\u001b[0;34m\u001b[0m\u001b[0;34m\u001b[0m\u001b[0m\n\u001b[0m\u001b[1;32m      2\u001b[0m \u001b[0;31m#test de l'affichage\u001b[0m\u001b[0;34m\u001b[0m\u001b[0;34m\u001b[0m\u001b[0;34m\u001b[0m\u001b[0m\n\u001b[1;32m      3\u001b[0m \u001b[0mabin\u001b[0m \u001b[0;34m=\u001b[0m \u001b[0mconstruit_AD\u001b[0m\u001b[0;34m(\u001b[0m\u001b[0mthe_set\u001b[0m\u001b[0;34m,\u001b[0m\u001b[0;36m0.0\u001b[0m\u001b[0;34m)\u001b[0m\u001b[0;34m\u001b[0m\u001b[0;34m\u001b[0m\u001b[0m\n\u001b[1;32m      4\u001b[0m \u001b[0mgtree\u001b[0m \u001b[0;34m=\u001b[0m \u001b[0mgv\u001b[0m\u001b[0;34m.\u001b[0m\u001b[0mDigraph\u001b[0m\u001b[0;34m(\u001b[0m\u001b[0mformat\u001b[0m\u001b[0;34m=\u001b[0m\u001b[0;34m'png'\u001b[0m\u001b[0;34m)\u001b[0m\u001b[0;34m\u001b[0m\u001b[0;34m\u001b[0m\u001b[0m\n\u001b[1;32m      5\u001b[0m \u001b[0mabin\u001b[0m\u001b[0;34m.\u001b[0m\u001b[0mto_graph\u001b[0m\u001b[0;34m(\u001b[0m\u001b[0mgtree\u001b[0m\u001b[0;34m)\u001b[0m\u001b[0;34m\u001b[0m\u001b[0;34m\u001b[0m\u001b[0m\n",
      "\u001b[0;32m<ipython-input-18-8209c40f2bdf>\u001b[0m in \u001b[0;36mcreateGaussianDataset\u001b[0;34m(positive_center, positive_sigma, negative_center, negative_sigma, nb_points)\u001b[0m\n\u001b[1;32m     42\u001b[0m     \"\"\"\n\u001b[1;32m     43\u001b[0m     \u001b[0;31m#TODO: A Compléter\u001b[0m\u001b[0;34m\u001b[0m\u001b[0;34m\u001b[0m\u001b[0;34m\u001b[0m\u001b[0m\n\u001b[0;32m---> 44\u001b[0;31m     \u001b[0mlabel\u001b[0m \u001b[0;34m=\u001b[0m \u001b[0mLabeledSet\u001b[0m\u001b[0;34m(\u001b[0m\u001b[0;36m2\u001b[0m\u001b[0;34m)\u001b[0m\u001b[0;34m\u001b[0m\u001b[0;34m\u001b[0m\u001b[0m\n\u001b[0m\u001b[1;32m     45\u001b[0m     \u001b[0mpoints_positifs\u001b[0m \u001b[0;34m=\u001b[0m \u001b[0mnp\u001b[0m\u001b[0;34m.\u001b[0m\u001b[0mrandom\u001b[0m\u001b[0;34m.\u001b[0m\u001b[0mmultivariate_normal\u001b[0m\u001b[0;34m(\u001b[0m\u001b[0mpositive_center\u001b[0m\u001b[0;34m,\u001b[0m\u001b[0mpositive_sigma\u001b[0m\u001b[0;34m,\u001b[0m\u001b[0mnb_points\u001b[0m\u001b[0;34m)\u001b[0m\u001b[0;34m\u001b[0m\u001b[0;34m\u001b[0m\u001b[0m\n\u001b[1;32m     46\u001b[0m     \u001b[0mpoints_negatifs\u001b[0m \u001b[0;34m=\u001b[0m \u001b[0mnp\u001b[0m\u001b[0;34m.\u001b[0m\u001b[0mrandom\u001b[0m\u001b[0;34m.\u001b[0m\u001b[0mmultivariate_normal\u001b[0m\u001b[0;34m(\u001b[0m\u001b[0mnegative_center\u001b[0m\u001b[0;34m,\u001b[0m\u001b[0mnegative_sigma\u001b[0m\u001b[0;34m,\u001b[0m\u001b[0mnb_points\u001b[0m\u001b[0;34m)\u001b[0m\u001b[0;34m\u001b[0m\u001b[0;34m\u001b[0m\u001b[0m\n",
      "\u001b[0;31mNameError\u001b[0m: name 'LabeledSet' is not defined"
     ]
    }
   ],
   "source": [
    "the_set = createGaussianDataset(np.array([1,1]),np.array([[1,0],[0,1]]),np.array([-1,-1]),np.array([[1,0],[0,1]]),20)\n",
    "#test de l'affichage \n",
    "abin = construit_AD(the_set,0.0)\n",
    "gtree = gv.Digraph(format='png')\n",
    "abin.to_graph(gtree)"
   ]
  },
  {
   "cell_type": "code",
   "execution_count": 27,
   "metadata": {},
   "outputs": [
    {
     "ename": "NameError",
     "evalue": "name 'LabeledSet' is not defined",
     "output_type": "error",
     "traceback": [
      "\u001b[0;31m---------------------------------------------------------------------------\u001b[0m",
      "\u001b[0;31mNameError\u001b[0m                                 Traceback (most recent call last)",
      "\u001b[0;32m<ipython-input-27-09ec69e7c450>\u001b[0m in \u001b[0;36m<module>\u001b[0;34m\u001b[0m\n\u001b[0;32m----> 1\u001b[0;31m \u001b[0mautre_set\u001b[0m\u001b[0;34m=\u001b[0m\u001b[0mcreateGaussianDataset\u001b[0m\u001b[0;34m(\u001b[0m\u001b[0mnp\u001b[0m\u001b[0;34m.\u001b[0m\u001b[0marray\u001b[0m\u001b[0;34m(\u001b[0m\u001b[0;34m[\u001b[0m\u001b[0;36m1\u001b[0m\u001b[0;34m,\u001b[0m\u001b[0;36m1\u001b[0m\u001b[0;34m]\u001b[0m\u001b[0;34m)\u001b[0m\u001b[0;34m,\u001b[0m\u001b[0mnp\u001b[0m\u001b[0;34m.\u001b[0m\u001b[0marray\u001b[0m\u001b[0;34m(\u001b[0m\u001b[0;34m[\u001b[0m\u001b[0;34m[\u001b[0m\u001b[0;36m1\u001b[0m\u001b[0;34m,\u001b[0m\u001b[0;36m0\u001b[0m\u001b[0;34m]\u001b[0m\u001b[0;34m,\u001b[0m\u001b[0;34m[\u001b[0m\u001b[0;36m0\u001b[0m\u001b[0;34m,\u001b[0m\u001b[0;36m1\u001b[0m\u001b[0;34m]\u001b[0m\u001b[0;34m]\u001b[0m\u001b[0;34m)\u001b[0m\u001b[0;34m,\u001b[0m\u001b[0mnp\u001b[0m\u001b[0;34m.\u001b[0m\u001b[0marray\u001b[0m\u001b[0;34m(\u001b[0m\u001b[0;34m[\u001b[0m\u001b[0;34m-\u001b[0m\u001b[0;36m1\u001b[0m\u001b[0;34m,\u001b[0m\u001b[0;34m-\u001b[0m\u001b[0;36m1\u001b[0m\u001b[0;34m]\u001b[0m\u001b[0;34m)\u001b[0m\u001b[0;34m,\u001b[0m\u001b[0mnp\u001b[0m\u001b[0;34m.\u001b[0m\u001b[0marray\u001b[0m\u001b[0;34m(\u001b[0m\u001b[0;34m[\u001b[0m\u001b[0;34m[\u001b[0m\u001b[0;36m1\u001b[0m\u001b[0;34m,\u001b[0m\u001b[0;36m0\u001b[0m\u001b[0;34m]\u001b[0m\u001b[0;34m,\u001b[0m\u001b[0;34m[\u001b[0m\u001b[0;36m0\u001b[0m\u001b[0;34m,\u001b[0m\u001b[0;36m1\u001b[0m\u001b[0;34m]\u001b[0m\u001b[0;34m]\u001b[0m\u001b[0;34m)\u001b[0m\u001b[0;34m,\u001b[0m\u001b[0;36m100\u001b[0m\u001b[0;34m)\u001b[0m\u001b[0;34m\u001b[0m\u001b[0;34m\u001b[0m\u001b[0m\n\u001b[0m\u001b[1;32m      2\u001b[0m \u001b[0mprint\u001b[0m\u001b[0;34m(\u001b[0m\u001b[0;34m\"Taille de la base générée :\"\u001b[0m\u001b[0;34m,\u001b[0m \u001b[0mautre_set\u001b[0m\u001b[0;34m.\u001b[0m\u001b[0msize\u001b[0m\u001b[0;34m(\u001b[0m\u001b[0;34m)\u001b[0m\u001b[0;34m,\u001b[0m \u001b[0;34m\"exemples\"\u001b[0m\u001b[0;34m)\u001b[0m\u001b[0;34m\u001b[0m\u001b[0;34m\u001b[0m\u001b[0m\n\u001b[1;32m      3\u001b[0m \u001b[0madautre\u001b[0m\u001b[0;34m=\u001b[0m\u001b[0mArbreDecision\u001b[0m\u001b[0;34m(\u001b[0m\u001b[0;36m0.0\u001b[0m\u001b[0;34m)\u001b[0m\u001b[0;34m\u001b[0m\u001b[0;34m\u001b[0m\u001b[0m\n\u001b[1;32m      4\u001b[0m \u001b[0madautre\u001b[0m\u001b[0;34m.\u001b[0m\u001b[0mtrain\u001b[0m\u001b[0;34m(\u001b[0m\u001b[0mautre_set\u001b[0m\u001b[0;34m)\u001b[0m\u001b[0;34m\u001b[0m\u001b[0;34m\u001b[0m\u001b[0m\n\u001b[1;32m      5\u001b[0m \u001b[0mplot_frontiere\u001b[0m\u001b[0;34m(\u001b[0m\u001b[0mautre_set\u001b[0m\u001b[0;34m,\u001b[0m\u001b[0madautre\u001b[0m\u001b[0;34m,\u001b[0m\u001b[0;36m100\u001b[0m\u001b[0;34m)\u001b[0m\u001b[0;34m\u001b[0m\u001b[0;34m\u001b[0m\u001b[0m\n",
      "\u001b[0;32m<ipython-input-18-8209c40f2bdf>\u001b[0m in \u001b[0;36mcreateGaussianDataset\u001b[0;34m(positive_center, positive_sigma, negative_center, negative_sigma, nb_points)\u001b[0m\n\u001b[1;32m     42\u001b[0m     \"\"\"\n\u001b[1;32m     43\u001b[0m     \u001b[0;31m#TODO: A Compléter\u001b[0m\u001b[0;34m\u001b[0m\u001b[0;34m\u001b[0m\u001b[0;34m\u001b[0m\u001b[0m\n\u001b[0;32m---> 44\u001b[0;31m     \u001b[0mlabel\u001b[0m \u001b[0;34m=\u001b[0m \u001b[0mLabeledSet\u001b[0m\u001b[0;34m(\u001b[0m\u001b[0;36m2\u001b[0m\u001b[0;34m)\u001b[0m\u001b[0;34m\u001b[0m\u001b[0;34m\u001b[0m\u001b[0m\n\u001b[0m\u001b[1;32m     45\u001b[0m     \u001b[0mpoints_positifs\u001b[0m \u001b[0;34m=\u001b[0m \u001b[0mnp\u001b[0m\u001b[0;34m.\u001b[0m\u001b[0mrandom\u001b[0m\u001b[0;34m.\u001b[0m\u001b[0mmultivariate_normal\u001b[0m\u001b[0;34m(\u001b[0m\u001b[0mpositive_center\u001b[0m\u001b[0;34m,\u001b[0m\u001b[0mpositive_sigma\u001b[0m\u001b[0;34m,\u001b[0m\u001b[0mnb_points\u001b[0m\u001b[0;34m)\u001b[0m\u001b[0;34m\u001b[0m\u001b[0;34m\u001b[0m\u001b[0m\n\u001b[1;32m     46\u001b[0m     \u001b[0mpoints_negatifs\u001b[0m \u001b[0;34m=\u001b[0m \u001b[0mnp\u001b[0m\u001b[0;34m.\u001b[0m\u001b[0mrandom\u001b[0m\u001b[0;34m.\u001b[0m\u001b[0mmultivariate_normal\u001b[0m\u001b[0;34m(\u001b[0m\u001b[0mnegative_center\u001b[0m\u001b[0;34m,\u001b[0m\u001b[0mnegative_sigma\u001b[0m\u001b[0;34m,\u001b[0m\u001b[0mnb_points\u001b[0m\u001b[0;34m)\u001b[0m\u001b[0;34m\u001b[0m\u001b[0;34m\u001b[0m\u001b[0m\n",
      "\u001b[0;31mNameError\u001b[0m: name 'LabeledSet' is not defined"
     ]
    }
   ],
   "source": [
    "autre_set=createGaussianDataset(np.array([1,1]),np.array([[1,0],[0,1]]),np.array([-1,-1]),np.array([[1,0],[0,1]]),100)\n",
    "print(\"Taille de la base générée :\", autre_set.size(), \"exemples\")\n",
    "adautre=ArbreDecision(0.0)         \n",
    "adautre.train(autre_set)\n",
    "plot_frontiere(autre_set,adautre,100)\n",
    "plot2DSet(autre_set)"
   ]
  },
  {
   "cell_type": "markdown",
   "metadata": {},
   "source": [
    "\n",
    "\n",
    "\n",
    "## Etape 2: Bagging d'arbres de décision\n",
    "\n",
    "### Tirage aléatoire d'exemples\n",
    "\n",
    "Le bootstrap s'effectue en tirant aléatoirement un échantillon de $m$ exemples à partir de la base d'apprentissage $X$. Cet échantillon sert ensuite à construire un classifieur.\n",
    "\n",
    "Dans l'algorithme du bagging, ce processus est répété $B$ fois.\n",
    "\n",
    "Afin de ne pas alourdir la place mémoire nécessaire pour réaliser un tel tirage, on ne travaille que sur les indices des exemples dans la base. Un **échantillon de $X$ est donc un vecteur d'entiers** qui représentent les indices des exemples choisis.\n"
   ]
  },
  {
   "cell_type": "markdown",
   "metadata": {},
   "source": [
    "#### Tirages aléatoires en Python\n",
    "\n",
    "Consulter la librairie Python random qui propose différentes fonctions utiles pour implémenter le tirage aléatoire du bootstrap.\n",
    "\n",
    "Par exemple, la fonction <code>sample()</code> de la librairie <code>random</code> rend une sélection aléatoire dans une population donnée en réalisant un tirage sans remise.\n",
    "\n",
    "Pour tester, exécuter plusieurs fois les instructions de la boîte suivante :"
   ]
  },
  {
   "cell_type": "code",
   "execution_count": 125,
   "metadata": {},
   "outputs": [
    {
     "name": "stdout",
     "output_type": "stream",
     "text": [
      "La liste L de départ:  [0, 1, 2, 3, 4, 5, 6, 7, 8, 9, 10]\n",
      "Echantillon:  [0, 7, 6, 1, 2, 5]\n"
     ]
    }
   ],
   "source": [
    "import random\n",
    "L= [i for i in range(0,11)]             # construction de la liste des entiers de 0 à 10\n",
    "print(\"La liste L de départ: \",L)\n",
    "EchL = random.sample(L,6)               # tirage de 6 éléments de L\n",
    "print(\"Echantillon: \",EchL)"
   ]
  },
  {
   "cell_type": "markdown",
   "metadata": {},
   "source": [
    "La fonction <code>choice()</code> permet de choisir aléatoirement un élément:"
   ]
  },
  {
   "cell_type": "code",
   "execution_count": 126,
   "metadata": {},
   "outputs": [
    {
     "name": "stdout",
     "output_type": "stream",
     "text": [
      "La liste L de départ:  [0, 1, 2, 3, 4, 5, 6, 7, 8, 9, 10]\n",
      "Element choisi:  3\n"
     ]
    }
   ],
   "source": [
    "L= [i for i in range(0,11)]             # construction de la liste des entiers de 0 à 10\n",
    "print(\"La liste L de départ: \",L)\n",
    "elt = random.choice(L)                  # choix d'un élémént\n",
    "print(\"Element choisi: \",elt)"
   ]
  },
  {
   "cell_type": "markdown",
   "metadata": {},
   "source": [
    "<font color=\"RED\" size=\"+1\">**[Q]**</font> Ecrire une fonction <code>tirage()</code> qui étant donné un vecteur d'entiers $VX$ qui représente l'ensemble des indices des exemples d'une base d'apprentissage $X$, un entier $m$, et un booléen $r$, rend un vecteur de $m$ indices choisis aléatoirement dans $VX$. Si le booléen $r$ est vrai, le tirage s'effectue *avec remise*, sinon il s'effectue *sans remise*."
   ]
  },
  {
   "cell_type": "code",
   "execution_count": 127,
   "metadata": {},
   "outputs": [],
   "source": [
    "\"\"\"def tirage(vx, m, r) :\n",
    "    l=[]\n",
    "    if r==True: #remise\n",
    "        for i in range(m):\n",
    "            l.append(random.choice(vx))\n",
    "    else:\n",
    "        #sans remise\n",
    "        l = random.sample(vx, m)\n",
    "        \n",
    "    return l \"\"\"\n",
    "\n",
    "def tirage(v,m,b):\n",
    "    res = []\n",
    "    i=0\n",
    "    while i < m:\n",
    "        elt = random.choice(v)\n",
    "        if b==False:\n",
    "            if elt not in res:\n",
    "                res.append(elt)\n",
    "                i += 1\n",
    "        else:\n",
    "            res.append(elt)\n",
    "            i+=1\n",
    "    return res"
   ]
  },
  {
   "cell_type": "markdown",
   "metadata": {},
   "source": [
    "Exemples :"
   ]
  },
  {
   "cell_type": "code",
   "execution_count": 128,
   "metadata": {},
   "outputs": [
    {
     "data": {
      "text/plain": [
       "[2, 9, 7, 1, 0, 7, 5, 9]"
      ]
     },
     "execution_count": 128,
     "metadata": {},
     "output_type": "execute_result"
    }
   ],
   "source": [
    "L= [i for i in range(0,10)]    # construction de la liste des entiers de 0 à 100\n",
    "tirage(L,8,True)               # tirage avec remise"
   ]
  },
  {
   "cell_type": "code",
   "execution_count": 129,
   "metadata": {},
   "outputs": [
    {
     "data": {
      "text/plain": [
       "[4, 2, 1, 8, 9, 0, 5, 6]"
      ]
     },
     "execution_count": 129,
     "metadata": {},
     "output_type": "execute_result"
    }
   ],
   "source": [
    "tirage(L,8,False)               # tirage sans remise"
   ]
  },
  {
   "cell_type": "markdown",
   "metadata": {},
   "source": [
    "<font color=\"RED\" size=\"+1\">**[Q]**</font> En utilisant la fonction précédente, écrire la fonction <code>echantillonLS()</code> qui, étant donné un <code>LabeledSet</code> $X$, un nombre entier $m$, et un booléen rend un échantillon de $X$ de taille $m$ sous la forme d'un <code>LabeledSet</code>. L'échantillon est obtenu par un tirage avec remise si le booléen est True, sinon, il est obtenu sans remise."
   ]
  },
  {
   "cell_type": "code",
   "execution_count": 130,
   "metadata": {},
   "outputs": [],
   "source": [
    "def echantillonLS (X, m, r):\n",
    "    \"\"\"l = range(X.size())\n",
    "    dataset=ls.LabeledSet(X.getInputDimension())\n",
    "    echantillon=tirage(l,m,r)\n",
    "    for i in echantillon:\n",
    "        dataset.addExample(X.getX(i),X.getY(i))\n",
    "    return dataset\"\"\"\n",
    "\n",
    "    res = []\n",
    "    for i in range(X.size()):\n",
    "        res.append(i)\n",
    "    resultat = tirage(res,m,r)\n",
    "    resultat_final = ls.LabeledSet(X.getInputDimension())\n",
    "    for i in resultat:\n",
    "        resultat_final.addExample(X.getX(i),X.getY(i))\n",
    "    return resultat_final"
   ]
  },
  {
   "cell_type": "markdown",
   "metadata": {},
   "source": [
    "<font color=\"RED\" size=\"+1\">**[Q]**</font> Ecrire la classe <code>ClassifierBaggingTree</code>, dérivée de la classe <code>Classifier</code>, qui permet d'implémenter un bagging d'arbres de décision. Les spécifications de cette classe sont :\n",
    "- la création de l'ensemble nécessite les paramètres suivants : \n",
    "    - le nombre $B$ d'arbres à construire, \n",
    "    - le pourcentage d'exemples de la base d'apprentissage utilisés pour constituer un échantillon, \n",
    "    - un booléen qui précise si un échantillon est tiré avec ou sans remise\n",
    "    - et la valeur de seuil d'entropie pour arrêter la construction de chaque arbre, \n",
    "- l'apprentissage (méthode <code>train()</code>) construit autant d'arbres que précisé à la création. Chaque arbre est construit à partir d'un échantillon de la base d'apprentissage (<code>LabeledSet</code>) donnée en argument. Les arbres construits sont stockés dans un ensemble Python.\n",
    "\n",
    "- la prédiction (méthode <code>predict()</code>) classe un exemple par vote de tous les arbres de la forêt. Si la somme des votes est positive ou nulle, la classe rendue est +1, sinon, la classe rendue est -1."
   ]
  },
  {
   "cell_type": "code",
   "execution_count": 133,
   "metadata": {},
   "outputs": [],
   "source": [
    "class ClassifierBaggingTree(cl.Classifier):\n",
    "    def __init__(self, B, pourcentage, booleen, seuil):\n",
    "        self.B=B\n",
    "        self.pourcentage=pourcentage\n",
    "        self.booleen=booleen\n",
    "        self.seuil=seuil \n",
    "        self.a= set()\n",
    "        \n",
    "    def train(self,dataset):\n",
    "        for i in range(self.B):\n",
    "            set_temp = echantillonLS(dataset, (int)(self.pourcentage*dataset.size()), self.booleen)\n",
    "            self.a.add(construit_AD(set_temp,self.seuil))\n",
    "            \n",
    "    def predict(self,x):\n",
    "        res = list()\n",
    "        \n",
    "        for i in self.a:\n",
    "            res.append(i.classifie(x))\n",
    "            \n",
    "        som = sum(res)\n",
    "        if som >0 :\n",
    "            return 1 \n",
    "        return -1\n",
    "    \n"
   ]
  },
  {
   "cell_type": "code",
   "execution_count": 134,
   "metadata": {},
   "outputs": [
    {
     "name": "stdout",
     "output_type": "stream",
     "text": [
      "exemple: 0  vraie classe =  [1] - classe trouvee =  1\n",
      "exemple: 1  vraie classe =  [1] - classe trouvee =  1\n",
      "exemple: 2  vraie classe =  [1] - classe trouvee =  1\n",
      "exemple: 3  vraie classe =  [1] - classe trouvee =  1\n",
      "exemple: 4  vraie classe =  [1] - classe trouvee =  1\n",
      "exemple: 5  vraie classe =  [1] - classe trouvee =  1\n",
      "exemple: 6  vraie classe =  [1] - classe trouvee =  1\n",
      "exemple: 7  vraie classe =  [1] - classe trouvee =  1\n",
      "exemple: 8  vraie classe =  [1] - classe trouvee =  1\n",
      "exemple: 9  vraie classe =  [1] - classe trouvee =  1\n",
      "exemple: 10  vraie classe =  [-1] - classe trouvee =  1\n",
      "exemple: 11  vraie classe =  [-1] - classe trouvee =  1\n",
      "exemple: 12  vraie classe =  [-1] - classe trouvee =  1\n",
      "exemple: 13  vraie classe =  [-1] - classe trouvee =  1\n",
      "exemple: 14  vraie classe =  [-1] - classe trouvee =  1\n",
      "exemple: 15  vraie classe =  [-1] - classe trouvee =  1\n",
      "exemple: 16  vraie classe =  [-1] - classe trouvee =  1\n",
      "exemple: 17  vraie classe =  [-1] - classe trouvee =  1\n",
      "exemple: 18  vraie classe =  [-1] - classe trouvee =  1\n",
      "exemple: 19  vraie classe =  [-1] - classe trouvee =  1\n",
      "\n",
      "accuracy totale: 50.0\n"
     ]
    },
    {
     "data": {
      "image/png": "[encoded data removed]",
      "text/plain": [
       "<Figure size 432x288 with 1 Axes>"
      ]
     },
     "metadata": {},
     "output_type": "display_data"
    }
   ],
   "source": [
    "foret = ClassifierBaggingTree(10,0.3,0.0,True)\n",
    "foret.train(set_exemples)\n",
    "for i in range(set_exemples.size()):\n",
    "    print(\"exemple:\",i,\" vraie classe = \", set_exemples.getY(i), \"- classe trouvee = \", foret.predict(set_exemples.getX(i)))\n",
    "    \n",
    "ut.plot_frontiere(set_exemples,foret,20)\n",
    "ut.plot2DSet(set_exemples) \n",
    "\n",
    "print(\"\\naccuracy totale:\",foret.accuracy(set_exemples))\n"
   ]
  },
  {
   "cell_type": "markdown",
   "metadata": {},
   "source": [
    "### Expérimentations\n",
    "\n",
    "<font color=\"RED\" size=\"+1\">**[Q]**</font> Expérimenter l'algorithme précédent de la façon suivante :\n",
    "- générer une base d'apprentissage $X$ contenant au moins 1000 exemples ;\n",
    "- réaliser un échantillon de cette base contenant 50 exemples de chaque classe. Soit $E$ cet échantillon, et soit $F$ l'ensemble des exemples de $X$ qui ne sont pas dans $E$ ;\n",
    "- réaliser un apprentissage par bagging sur $F$ et évaluer le taux de prédiction du modèle obtenu sur $E$ ;\n",
    "- construire la courbe donnant le taux de prédiction obtenu en augmentant la taille de la forêt d'arbres de 1 à 20 arbres. "
   ]
  },
  {
   "cell_type": "code",
   "execution_count": null,
   "metadata": {},
   "outputs": [],
   "source": []
  },
  {
   "cell_type": "code",
   "execution_count": 135,
   "metadata": {},
   "outputs": [
    {
     "ename": "NameError",
     "evalue": "name 'E' is not defined",
     "output_type": "error",
     "traceback": [
      "\u001b[0;31m---------------------------------------------------------------------------\u001b[0m",
      "\u001b[0;31mNameError\u001b[0m                                 Traceback (most recent call last)",
      "\u001b[0;32m<ipython-input-135-7ae05bd1c950>\u001b[0m in \u001b[0;36m<module>\u001b[0;34m()\u001b[0m\n\u001b[1;32m      1\u001b[0m \u001b[0;31m# Réaliser un apprentissage par bagging sur E et évaluer le taux de prédiction du modèle sur F\u001b[0m\u001b[0;34m\u001b[0m\u001b[0;34m\u001b[0m\u001b[0m\n\u001b[1;32m      2\u001b[0m \u001b[0mforet20\u001b[0m \u001b[0;34m=\u001b[0m  \u001b[0mClassifierBaggingTree\u001b[0m\u001b[0;34m(\u001b[0m\u001b[0;36m20\u001b[0m\u001b[0;34m,\u001b[0m\u001b[0;36m0.3\u001b[0m\u001b[0;34m,\u001b[0m\u001b[0;36m0.0\u001b[0m\u001b[0;34m,\u001b[0m\u001b[0;32mTrue\u001b[0m\u001b[0;34m)\u001b[0m\u001b[0;34m\u001b[0m\u001b[0m\n\u001b[0;32m----> 3\u001b[0;31m \u001b[0mforet20\u001b[0m\u001b[0;34m.\u001b[0m\u001b[0mtrain\u001b[0m\u001b[0;34m(\u001b[0m\u001b[0mE\u001b[0m\u001b[0;34m)\u001b[0m\u001b[0;34m\u001b[0m\u001b[0m\n\u001b[0m\u001b[1;32m      4\u001b[0m \u001b[0mprint\u001b[0m\u001b[0;34m(\u001b[0m\u001b[0;34m\"Bagging : 20 trees: accuracy totale: train=%.4f test=%.4f\"\u001b[0m\u001b[0;34m%\u001b[0m\u001b[0;34m(\u001b[0m\u001b[0mforet20\u001b[0m\u001b[0;34m.\u001b[0m\u001b[0maccuracy\u001b[0m\u001b[0;34m(\u001b[0m\u001b[0mE\u001b[0m\u001b[0;34m)\u001b[0m\u001b[0;34m,\u001b[0m\u001b[0mforet20\u001b[0m\u001b[0;34m.\u001b[0m\u001b[0maccuracy\u001b[0m\u001b[0;34m(\u001b[0m\u001b[0mF\u001b[0m\u001b[0;34m)\u001b[0m\u001b[0;34m)\u001b[0m\u001b[0;34m)\u001b[0m\u001b[0;34m\u001b[0m\u001b[0m\n",
      "\u001b[0;31mNameError\u001b[0m: name 'E' is not defined"
     ]
    }
   ],
   "source": [
    "# Réaliser un apprentissage par bagging sur E et évaluer le taux de prédiction du modèle sur F\n",
    "foret20 =  ClassifierBaggingTree(20,0.3,0.0,True)\n",
    "foret20.train(E)\n",
    "print(\"Bagging : 20 trees: accuracy totale: train=%.4f test=%.4f\"%(foret20.accuracy(E),foret20.accuracy(F)))"
   ]
  },
  {
   "cell_type": "code",
   "execution_count": 18,
   "metadata": {},
   "outputs": [],
   "source": []
  },
  {
   "cell_type": "code",
   "execution_count": 19,
   "metadata": {},
   "outputs": [
    {
     "data": {
      "text/plain": [
       "[<matplotlib.lines.Line2D at 0x7f5788f67ef0>]"
      ]
     },
     "execution_count": 19,
     "metadata": {},
     "output_type": "execute_result"
    },
    {
     "data": {
      "image/png": "[encoded data removed]",
      "text/plain": [
       "<Figure size 432x288 with 1 Axes>"
      ]
     },
     "metadata": {},
     "output_type": "display_data"
    }
   ],
   "source": []
  },
  {
   "cell_type": "markdown",
   "metadata": {},
   "source": [
    "### Evaluation par la méthode \"Out Of Bags\"\n",
    "\n",
    "<font color=\"RED\" size=\"+1\">**[Q]**</font> Sur les mêmes données, réaliser une évaluation par la méthode \"Out Of Bags\" vue en cours. Construire la courbe donnant le taux de prédiction OOB en fonction de la taille de la forêt d'arbres.\n",
    "\n",
    "Pour cela, écrire la classe <code>ClassifierBaggingTreeOOB</code> qui étend la classe d'un classifieur bagging pour prendre en compte la spécificité de l'approche OOB.\n",
    "Ainsi, à partir de $\\mathcal{X}$, l'ensemble des données d'apprentissage, chaque arbre $A_i$ de la forêt est associé à 2 sous-ensembles de $\\mathcal{X}$: \n",
    "- $\\mathcal{X}_i$: l'échantillon bootstrap qui sert à construire l'arbre $A_i$\n",
    "- $\\mathcal{T}_i$: l'ensemble des exemples OOB associés à l'arbre $A_i$\n",
    "\n",
    "Le calcul du taux de bonne classification s'effectuera comme suit:\n",
    "- soit $t_i$ le taux de bonne classification de $A_i$ pour l'ensemble OOB $\\mathcal{T}_i$\n",
    "- le taux de global de bonne classification de la forêt d'arbres $A_1$,..., $A_B$ est donné par $\\frac{1}{B}\\sum_{i=1}^{B} t_i$\n"
   ]
  },
  {
   "cell_type": "code",
   "execution_count": 20,
   "metadata": {},
   "outputs": [],
   "source": []
  },
  {
   "cell_type": "code",
   "execution_count": 21,
   "metadata": {},
   "outputs": [
    {
     "data": {
      "text/plain": [
       "[<matplotlib.lines.Line2D at 0x7f578893dfd0>]"
      ]
     },
     "execution_count": 21,
     "metadata": {},
     "output_type": "execute_result"
    },
    {
     "data": {
      "image/png": "[encoded data removed]",
      "text/plain": [
       "<Figure size 432x288 with 1 Axes>"
      ]
     },
     "metadata": {},
     "output_type": "display_data"
    },
    {
     "data": {
      "image/png": "[encoded data removed]",
      "text/plain": [
       "<Figure size 432x288 with 1 Axes>"
      ]
     },
     "metadata": {},
     "output_type": "display_data"
    }
   ],
   "source": []
  },
  {
   "cell_type": "markdown",
   "metadata": {},
   "source": [
    "## Etape 3: Random forests\n",
    "\n",
    "<font color=\"RED\" size=\"+1\">**[Q]**</font> Ecrire et tester la classe <code>ClassifierRandomForest</code> qui implémente l'algorithme des random forests vu en cours.\n",
    "\n",
    "Pour cela, vous devrez:\n",
    "- définir une méthode <code>construit_AD_aleatoire(LSet,epsilon,nbatt)</code> qui utilise $nbatt$ attributs choisis aléatoirement à chaque niveau de la construction de l'arbre\n",
    "- définir une nouvelle classe <code>ArbreDecisionAleatoire</code> qui étend la classe <code>ArbreDecision</code> en surchargeant la méthode <code>train</code>. Le constructeur d'un tel arbre prendra en argument le nombre d'attributs à utiliser lors de la construction de l'arbre."
   ]
  },
  {
   "cell_type": "code",
   "execution_count": null,
   "metadata": {},
   "outputs": [],
   "source": []
  },
  {
   "cell_type": "markdown",
   "metadata": {},
   "source": [
    "## Etape 4: expérimentation\n",
    "\n",
    "<font color=\"RED\" size=\"+1\">**[Q]**</font> Comparer le bagging d'arbres et les random forests sur d'autres bases d'apprentissage (réelles ou générées aléatoirement). Construire la courbe donnant le taux de prédiction pour une forêt d'arbres variant de 1 à 100 arbres (cela peut prendre du temps, tester sur un nombre réduit d'arbres dans un premier temps)."
   ]
  },
  {
   "cell_type": "code",
   "execution_count": null,
   "metadata": {},
   "outputs": [],
   "source": []
  },
  {
   "cell_type": "markdown",
   "metadata": {},
   "source": [
    "## Exercices à faire chez vous (sur papier)\n",
    "\n",
    "Pour vous entraîner sans machine... *(exercice de l'examen 2017)*\n",
    "\n",
    "Soit $V=\\{v_{1}, v_{2},..., v_{n}\\}$ un ensemble de $n$ valeurs réelles ordonnées,\n",
    "  telles que $v_1 \\geq v_2 \\geq \\ldots \\geq v_{n}$.. On note $\\bar{v}$ la valeur moyenne de $V$. La variance de $V$, $var(V)$ est définie par:\n",
    "$var(V) = \\frac{1}{n} \\sum_{i=1}^{n} (v_{i} - \\bar{v})^2$. \n",
    "\n",
    "Et soit $W=\\{w_{1}, w_{2},..., w_{n}\\}$ tel que,pour tout $i=1,...,n$.\n",
    "\n",
    "\n",
    "** [Q] ** Donner l'expression de $\\bar{v}$ en fonction des valeurs de $V$.\n",
    "\n",
    "** [Q] **  Montrer que $var(aV+b) = a^2 var(V)$.\n",
    "\n",
    "** [Q] ** Donner l'expression de $V\\cdot W$ (le produit scalaire) en fonction des coordonnées\n",
    "   de $V$ et de $W$.\n",
    "   \n",
    "** [Q] ** Comment doit-on définir $W$ si on souhaite que $V\\cdot W = \\bar{v}$ ?\n",
    "\n",
    "\n",
    "** [Q] ** Comment doit-on définir $W$ si on souhaite que\n",
    "   $V\\cdot W = \\displaystyle\\max_{i=1,...n} v_i$ ? Même question si on souhaite que\n",
    "   $V\\cdot W = \\displaystyle\\min_{i=1,...n} v_i$ ?\n",
    "\n",
    "** [Q] ** Soit un entier $k$ tel que $0<k\\leq n$. Proposer une définition de $W$ qui, par le\n",
    "   calcul du produit scalaire, permet de ne tenir compte, de façon équitable, que des $k$\n",
    "   valeurs les plus élevées de $V$.\n",
    "\n"
   ]
  },
  {
   "cell_type": "code",
   "execution_count": null,
   "metadata": {},
   "outputs": [],
   "source": []
  }
 ],
 "metadata": {
  "kernelspec": {
   "display_name": "Python 3",
   "language": "python",
   "name": "python3"
  },
  "language_info": {
   "codemirror_mode": {
    "name": "ipython",
    "version": 3
   },
   "file_extension": ".py",
   "mimetype": "text/x-python",
   "name": "python",
   "nbconvert_exporter": "python",
   "pygments_lexer": "ipython3",
   "version": "3.7.1"
  }
 },
 "nbformat": 4,
 "nbformat_minor": 2
}
