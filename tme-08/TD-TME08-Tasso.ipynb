{
 "cells": [
  {
   "cell_type": "markdown",
   "metadata": {},
   "source": [
    "IA & Data science (3i026) -- 2018-2019\n",
    "--------\n",
    "*&copy; Equipe pédagogique: Manon Ansart, Vincent Guigue, Marie-Jeanne Lesot, Christophe Marsala, Olivier Schwander.*"
   ]
  },
  {
   "cell_type": "markdown",
   "metadata": {},
   "source": [
    "# TD-TME08: algorithme des k-moyennes\n",
    "\n",
    "L'objectif de ce TP est d'implémenter un nouvel algorithme d'apprentissage non-supervisé, l'algorithme des K-moyennes (cours 9)."
   ]
  },
  {
   "cell_type": "markdown",
   "metadata": {},
   "source": [
    "<font size=\"+1\" color=\"RED\">**[Q]**</font> **Indiquer dans la boîte ci-dessous vos noms et prénoms :**"
   ]
  },
  {
   "cell_type": "markdown",
   "metadata": {},
   "source": [
    "Lenaïg Tasso"
   ]
  },
  {
   "cell_type": "markdown",
   "metadata": {},
   "source": [
    "<font color=\"RED\" size=\"+1\">**[Q]**</font> **Renommer ce fichier ipython**\n",
    "\n",
    "Compléter le nom de ce notebook en rajoutant les noms des membres du binômes séparés par un tiret."
   ]
  },
  {
   "cell_type": "markdown",
   "metadata": {},
   "source": [
    "## Préparation\n",
    "\n",
    "Décompresser l'archive, elle crée le répertoire \"tp8\" qui contient un fichier ipython à ouvrir (ce fichier-ci) et un sous-répertoire \"data\" contenant les bases d'apprentissage utilisées dans ce TP."
   ]
  },
  {
   "cell_type": "code",
   "execution_count": 1,
   "metadata": {},
   "outputs": [],
   "source": [
    "import numpy as np\n",
    "import pandas as pd\n",
    "from datetime import datetime as dt\n",
    "import matplotlib.pyplot as plt\n",
    "%matplotlib inline  "
   ]
  },
  {
   "cell_type": "markdown",
   "metadata": {},
   "source": [
    "## Travail à réaliser\n",
    "Le travail à faire se décompose en 2 phases :\n",
    "- dans un premier temps, le travail porte sur la base d'apprentissage <code>base-2D.csv</code> qui contient des exemples décrits dans $R^2$. Ainsi, il est plus aisé de visualiser les résultats des fonctions à écrire ;\n",
    "- dans un second temps, les fonctions écrites dans la phase précédente sont à utiliser avec la base d'apprentissage \"base-Paris.csv\".\n",
    "\n",
    "**Attention**: vos fonctions doivent **dès leur création** pouvoir s'appliquer **quelle que soit la dimension** des exemples traités.\n",
    "\n",
    "\n",
    "### Important :\n",
    "Dans la suite de ce TP, on appelle:\n",
    "\n",
    "- \"base d'apprentissage\" le dataframe contenant l'ensemble des exemples d'apprentissage chargés par la commande précédente\n",
    "- \"base d'exemples\" : un dataframe contenant un ensemble d'exemples (remarque: la base d'apprentissage est le plus grand ensemble d'exemples possible)"
   ]
  },
  {
   "cell_type": "markdown",
   "metadata": {},
   "source": [
    "**Rappel**: avec un dataframe, il est facile d'accéder à tous les éléments d'une colonne, par exemple si <code>DF</code> est un dataframe, '<code>DF['X']</code> permet de récupérer une <code>Series</code> contenant toutes les lignes de la colonne de nom 'X'.\n",
    "On peut accéder à une ligne (ou un ensemble de ligne) très facilement:\n",
    "- <code>DF.iloc[0]</code> permet de récupérer la ligne d'indice 0 sous la forme d'une \"series\"\n",
    "- <code>DF.iloc[0:1]</code> permet de récupérer la ligne d'indice 0 sous la forme d'un dataframe (cettte instruction réalise un \"slicing\")\n",
    "- <code>DF.iloc[0:5]</code> permet de récupérer les lignes d'indice de 0 à 4\n",
    "\n",
    "etc."
   ]
  },
  {
   "cell_type": "markdown",
   "metadata": {},
   "source": [
    "### Données d'expérimentation\n",
    "\n",
    "Commencer par charger le fichier <code>base_2D.csv</code> qui permettra d'expérimenter vos fonctions. Dans ce qui suit, on note <code>data_2D</code> le dataframe qui contient les données de ce fichiers.\n"
   ]
  },
  {
   "cell_type": "code",
   "execution_count": 2,
   "metadata": {
    "scrolled": true
   },
   "outputs": [
    {
     "name": "stdout",
     "output_type": "stream",
     "text": [
      "      X    Y\n",
      "0   0.0  4.0\n",
      "1   1.0  3.5\n",
      "2   1.0  1.0\n",
      "3   2.0  1.0\n",
      "4   2.0  2.0\n",
      "5   4.0  4.0\n",
      "6   4.0  5.0\n",
      "7   4.0  6.0\n",
      "8   4.5  1.0\n",
      "9   4.5  6.0\n",
      "10  5.0  1.0\n",
      "11  5.0  5.0\n",
      "12  6.0  2.0\n",
      "13  7.0  4.0\n"
     ]
    }
   ],
   "source": [
    "data_2D = pd.read_csv(\"data/base-2D.csv\")\n",
    "print(data_2D)"
   ]
  },
  {
   "cell_type": "markdown",
   "metadata": {},
   "source": [
    "## Partie 1 : fonctions utiles (et retour vers la séance dernière)"
   ]
  },
  {
   "cell_type": "markdown",
   "metadata": {},
   "source": [
    "<font size=\"+1\" color=\"RED\">**[Q]**</font> (Ré)écrire la fonction <code>normalisation()</code> du TD-TME07: cette fonction doit prendre en argument un <code>DataFrame DF</code> et rendre **le dataframe** obtenu en normalisant chaque colonne de <code>DF</code> par la méthode vue en cours 8."
   ]
  },
  {
   "cell_type": "code",
   "execution_count": 38,
   "metadata": {},
   "outputs": [],
   "source": [
    "def normalisation(df):\n",
    "    tmax=df.max()\n",
    "    tmin=df.min()\n",
    "    newm=df-tmin\n",
    "    newm=newm/(tmax-tmin)\n",
    "    return newm\n",
    "#min(axis=0) -> 0 : ligne, 1 : colonne\n"
   ]
  },
  {
   "cell_type": "code",
   "execution_count": 39,
   "metadata": {
    "scrolled": false
   },
   "outputs": [
    {
     "name": "stdout",
     "output_type": "stream",
     "text": [
      "---> type de DataFnorm: <class 'pandas.core.frame.DataFrame'>\n"
     ]
    },
    {
     "data": {
      "text/plain": [
       "<matplotlib.collections.PathCollection at 0x1136d0048>"
      ]
     },
     "execution_count": 39,
     "metadata": {},
     "output_type": "execute_result"
    },
    {
     "data": {
      "image/png": "[encoded data removed]",
      "text/plain": [
       "<Figure size 432x288 with 1 Axes>"
      ]
     },
     "metadata": {
      "needs_background": "light"
     },
     "output_type": "display_data"
    }
   ],
   "source": [
    "# Affichage des points après normalisation:\n",
    "\n",
    "DataFnorm = normalisation(data_2D)\n",
    "print(\"---> type de DataFnorm:\",type(DataFnorm))\n",
    "\n",
    "plt.scatter(DataFnorm['X'],DataFnorm['Y'])"
   ]
  },
  {
   "cell_type": "markdown",
   "metadata": {},
   "source": [
    "<font size=\"+1\" color=\"RED\">**[Q]**</font> Réécrire la fonction <code>dist_vect()</code> qui calcule la distance euclidienne entre deux <code>Series</code>."
   ]
  },
  {
   "cell_type": "code",
   "execution_count": 40,
   "metadata": {},
   "outputs": [],
   "source": [
    "from math import sqrt\n",
    "def dist_vect(v1, v2):\n",
    "    return sqrt(np.dot(v1-v2, v1-v2))\n"
   ]
  },
  {
   "cell_type": "code",
   "execution_count": 41,
   "metadata": {},
   "outputs": [
    {
     "data": {
      "text/plain": [
       "0.6975174637562116"
      ]
     },
     "execution_count": 41,
     "metadata": {},
     "output_type": "execute_result"
    }
   ],
   "source": [
    "dist_vect(DataFnorm.iloc[0],DataFnorm.iloc[7])"
   ]
  },
  {
   "cell_type": "markdown",
   "metadata": {},
   "source": [
    "### Calcul de centroides\n",
    "\n",
    "<font size=\"+1\" color=\"RED\">**[Q]**</font> Ecrire la fonction <code>centroide()</code> qui, étant donné un DataFrame représentant plusieurs exemples rend le centroide. Cette fonction doit rendre un DataFrame."
   ]
  },
  {
   "cell_type": "code",
   "execution_count": 42,
   "metadata": {},
   "outputs": [],
   "source": [
    "def centroide(df):\n",
    "    return df.mean()"
   ]
  },
  {
   "cell_type": "code",
   "execution_count": 43,
   "metadata": {},
   "outputs": [
    {
     "data": {
      "text/plain": [
       "X    0.510204\n",
       "Y    0.450000\n",
       "dtype: float64"
      ]
     },
     "execution_count": 43,
     "metadata": {},
     "output_type": "execute_result"
    }
   ],
   "source": [
    "centroide(DataFnorm)"
   ]
  },
  {
   "cell_type": "markdown",
   "metadata": {},
   "source": [
    "## Partie 2: implémentation des k-moyennes"
   ]
  },
  {
   "cell_type": "markdown",
   "metadata": {},
   "source": [
    "### Inertie d'un cluster\n",
    "<font size=\"+1\" color=\"RED\">**[Q]**</font> Ecrire la fonction <code>inertie_cluster</code> qui, étant donné un DataFrame contenant un ensemble d'exemples, rend la valeur de l'inertie de cet ensemble telle qu'elle a été définie dans le cours."
   ]
  },
  {
   "cell_type": "code",
   "execution_count": 44,
   "metadata": {},
   "outputs": [],
   "source": [
    "def fonction_caracteristique_de_E(E, x):\n",
    "    if (x in E.values):\n",
    "        return 1\n",
    "    return 0\n",
    "\n",
    "def inertie_cluster(df):\n",
    "    somme=0\n",
    "    for i in df.values:\n",
    "        somme+=fonction_caracteristique_de_E(df,i)*(dist_vect(i, centroide(df)))**2\n",
    "    return somme"
   ]
  },
  {
   "cell_type": "code",
   "execution_count": 45,
   "metadata": {},
   "outputs": [
    {
     "name": "stdout",
     "output_type": "stream",
     "text": [
      "inertie : 2.975991253644316\n"
     ]
    }
   ],
   "source": [
    "print(\"inertie :\",inertie_cluster(DataFnorm))"
   ]
  },
  {
   "cell_type": "markdown",
   "metadata": {},
   "source": [
    "Dans ce qui suit, on appelle \"ensemble de centroides\" un dataframe contenant $K$ vecteurs de dimensions $p$.\n",
    "\n",
    "<font size=\"+1\" color=\"RED\">**[Q]**</font> Ecrire la fonction <code>initialisation()</code> qui étant donné un entier $K>1$ et une base d'apprentissage (sous la forme d'un DataFrame) de $n$ exemples rend un dataframe contenant $K$ exemples tirés aléatoirement dans la base.\n",
    "On fait l'hypothèse que $K\\leq n$.\n",
    "\n",
    "*Remarque*: étudier les fonctions de la librairie random de Python...\n"
   ]
  },
  {
   "cell_type": "code",
   "execution_count": 65,
   "metadata": {},
   "outputs": [],
   "source": [
    "def initialisation(K, df):\n",
    "    return df.sample(K)"
   ]
  },
  {
   "cell_type": "code",
   "execution_count": 66,
   "metadata": {},
   "outputs": [
    {
     "data": {
      "text/html": [
       "<div>\n",
       "<style scoped>\n",
       "    .dataframe tbody tr th:only-of-type {\n",
       "        vertical-align: middle;\n",
       "    }\n",
       "\n",
       "    .dataframe tbody tr th {\n",
       "        vertical-align: top;\n",
       "    }\n",
       "\n",
       "    .dataframe thead th {\n",
       "        text-align: right;\n",
       "    }\n",
       "</style>\n",
       "<table border=\"1\" class=\"dataframe\">\n",
       "  <thead>\n",
       "    <tr style=\"text-align: right;\">\n",
       "      <th></th>\n",
       "      <th>X</th>\n",
       "      <th>Y</th>\n",
       "    </tr>\n",
       "  </thead>\n",
       "  <tbody>\n",
       "    <tr>\n",
       "      <th>10</th>\n",
       "      <td>0.714286</td>\n",
       "      <td>0.0</td>\n",
       "    </tr>\n",
       "    <tr>\n",
       "      <th>5</th>\n",
       "      <td>0.571429</td>\n",
       "      <td>0.6</td>\n",
       "    </tr>\n",
       "    <tr>\n",
       "      <th>13</th>\n",
       "      <td>1.000000</td>\n",
       "      <td>0.6</td>\n",
       "    </tr>\n",
       "  </tbody>\n",
       "</table>\n",
       "</div>"
      ],
      "text/plain": [
       "           X    Y\n",
       "10  0.714286  0.0\n",
       "5   0.571429  0.6\n",
       "13  1.000000  0.6"
      ]
     },
     "execution_count": 66,
     "metadata": {},
     "output_type": "execute_result"
    }
   ],
   "source": [
    "# Par exemple (mais vous ne devriez pas pouvoir retrouver exactement les mêmes !)\n",
    "Centroides_test = initialisation(3,DataFnorm)\n",
    "Centroides_test"
   ]
  },
  {
   "cell_type": "markdown",
   "metadata": {},
   "source": [
    "En utilisant l'option <code>\"color='blue'\"</code> ou <code>\"color='red'\"</code> de la fonction <code>scatter()<code>, on peut réaliser l'affichage de la base d'apprentissage (en bleu) et des centroides initiaux (en rouge)."
   ]
  },
  {
   "cell_type": "code",
   "execution_count": 48,
   "metadata": {},
   "outputs": [
    {
     "data": {
      "text/plain": [
       "<matplotlib.collections.PathCollection at 0x11372f6d8>"
      ]
     },
     "execution_count": 48,
     "metadata": {},
     "output_type": "execute_result"
    },
    {
     "data": {
      "image/png": "[encoded data removed]",
      "text/plain": [
       "<Figure size 432x288 with 1 Axes>"
      ]
     },
     "metadata": {
      "needs_background": "light"
     },
     "output_type": "display_data"
    }
   ],
   "source": [
    "plt.scatter(DataFnorm['X'],DataFnorm['Y'],color='blue')\n",
    "plt.scatter(Centroides_test['X'],Centroides_test['Y'],color='red')"
   ]
  },
  {
   "cell_type": "markdown",
   "metadata": {},
   "source": [
    "<font size=\"+1\" color=\"RED\">**[Q]**</font> Ecrire la fonction <code>plus_proche()</code> qui, étant donné un exemple et un dataframe contenant un ensemble de centroides, rend l'indice (dans le DataFrame) du centroide dont l'exemple est le plus proche.\n",
    "En cas d'égalité de distance, le centroide de plus petit indice est choisi."
   ]
  },
  {
   "cell_type": "code",
   "execution_count": 49,
   "metadata": {},
   "outputs": [],
   "source": [
    "def plus_proche(exemple, df):\n",
    "    min=dist_vect(exemple,df.values[0])\n",
    "    indi=0\n",
    "    \n",
    "    for i in range(1,len(df)):\n",
    "        res = dist_vect(exemple,df.values[i])\n",
    "        if(min > res and res != 0):\n",
    "            min=res\n",
    "            indi=i\n",
    "    return indi"
   ]
  },
  {
   "cell_type": "code",
   "execution_count": 50,
   "metadata": {
    "scrolled": false
   },
   "outputs": [
    {
     "name": "stdout",
     "output_type": "stream",
     "text": [
      "Exemple  0 : ( 0.0 ,  0.6 ) est plus proche du centroide 2 : ( 0.5714285714285714 ,  0.8 )\n",
      "Exemple  1 : ( 0.14285714285714285 ,  0.5 ) est plus proche du centroide 0 : ( 0.2857142857142857 ,  0.0 )\n",
      "Exemple  2 : ( 0.14285714285714285 ,  0.0 ) est plus proche du centroide 0 : ( 0.2857142857142857 ,  0.0 )\n",
      "Exemple  3 : ( 0.2857142857142857 ,  0.0 ) est plus proche du centroide 0 : ( 0.2857142857142857 ,  0.0 )\n",
      "Exemple  4 : ( 0.2857142857142857 ,  0.2 ) est plus proche du centroide 0 : ( 0.2857142857142857 ,  0.0 )\n",
      "Exemple  5 : ( 0.5714285714285714 ,  0.6 ) est plus proche du centroide 2 : ( 0.5714285714285714 ,  0.8 )\n",
      "Exemple  6 : ( 0.5714285714285714 ,  0.8 ) est plus proche du centroide 1 : ( 0.5714285714285714 ,  1.0 )\n",
      "Exemple  7 : ( 0.5714285714285714 ,  1.0 ) est plus proche du centroide 2 : ( 0.5714285714285714 ,  0.8 )\n",
      "Exemple  8 : ( 0.6428571428571429 ,  0.0 ) est plus proche du centroide 0 : ( 0.2857142857142857 ,  0.0 )\n",
      "Exemple  9 : ( 0.6428571428571429 ,  1.0 ) est plus proche du centroide 1 : ( 0.5714285714285714 ,  1.0 )\n",
      "Exemple  10 : ( 0.7142857142857143 ,  0.0 ) est plus proche du centroide 0 : ( 0.2857142857142857 ,  0.0 )\n",
      "Exemple  11 : ( 0.7142857142857143 ,  0.8 ) est plus proche du centroide 2 : ( 0.5714285714285714 ,  0.8 )\n",
      "Exemple  12 : ( 0.8571428571428571 ,  0.2 ) est plus proche du centroide 0 : ( 0.2857142857142857 ,  0.0 )\n",
      "Exemple  13 : ( 1.0 ,  0.6 ) est plus proche du centroide 2 : ( 0.5714285714285714 ,  0.8 )\n"
     ]
    }
   ],
   "source": [
    "for i in range(0,len(DataFnorm)):\n",
    "    pproche = plus_proche(DataFnorm.iloc[i],Centroides_test)\n",
    "    print(\"Exemple \",i,\": (\",DataFnorm.iloc[i]['X'],\", \",DataFnorm.iloc[i]['Y'], \")\",\\\n",
    "          \"est plus proche du centroide\",pproche, \": (\",Centroides_test.iloc[pproche]['X'],\", \", \\\n",
    "          Centroides_test.iloc[pproche]['Y'],\")\")"
   ]
  },
  {
   "cell_type": "markdown",
   "metadata": {},
   "source": [
    "### Matrice d'affectation\n",
    "\n",
    "Etant donné une base d'apprentissage, on peut représenter une partition de cette base en K clusters à l'aide d'une matrice U contenant n lignes (une par exemple) et K colonnes (une par cluster) telle que \n",
    "- U[i,j] = 1 si l'exemple i appartient au cluster j\n",
    "- U[i,j] = 0 si l'exemple i n'appartient pas au cluster j\n",
    "- un exemple appartient à un et un seul cluster\n",
    "- un cluster contient au moins un exemple\n",
    "\n",
    "On appelle **matrice d'affectation** une telle matrice U.\n"
   ]
  },
  {
   "cell_type": "markdown",
   "metadata": {},
   "source": [
    "<font size=\"+1\" color=\"RED\">**[Q]**</font> Donner une expression mathématique (pas du Python) des 2 dernières contraintes que vérifie une matrice d'affectation."
   ]
  },
  {
   "cell_type": "markdown",
   "metadata": {},
   "source": [
    "### Implémentation en Python\n",
    "Nous utilisons un dictionnaire pour représenter d'une matrice d'affectation: \n",
    "- les clés de ce dictionnaire correspondent aux $K$ indices des clusters\n",
    "- les valeurs correspondent à des listes d'indices d'exemples (leur indice dans la base d'apprentissage)\n",
    "\n",
    "Dans tout ce qui suit, une \"matrice d'affectation\" sera un tel dictionnaire.\n"
   ]
  },
  {
   "cell_type": "markdown",
   "metadata": {},
   "source": [
    "<font size=\"+1\" color=\"RED\">**[Q]**</font> Ecrire la fonction <code>affecte_cluster()</code> qui, étant donné une base d'apprentissage et un ensemble de centroïdes, rend la matrice d'affectation des exemples de la base aux clusters représentés par chaque centroïde."
   ]
  },
  {
   "cell_type": "code",
   "execution_count": 51,
   "metadata": {},
   "outputs": [],
   "source": [
    "def affecte_cluster(df,centroides):\n",
    "    dico = dict()\n",
    "    i=0\n",
    "    for index,row in centroides.iterrows():\n",
    "        dico[i] = list()\n",
    "        i+=1\n",
    "    for index,row in df.iterrows():\n",
    "        dico[plus_proche(row,centroides)].append(index)\n",
    "    return dico"
   ]
  },
  {
   "cell_type": "code",
   "execution_count": 52,
   "metadata": {},
   "outputs": [
    {
     "data": {
      "text/plain": [
       "{0: [1, 2, 3, 4, 8, 10, 12], 1: [6, 9], 2: [0, 5, 7, 11, 13]}"
      ]
     },
     "execution_count": 52,
     "metadata": {},
     "output_type": "execute_result"
    }
   ],
   "source": [
    "DictAffect = affecte_cluster(DataFnorm, Centroides_test)\n",
    "DictAffect"
   ]
  },
  {
   "cell_type": "markdown",
   "metadata": {},
   "source": [
    "### Ensemble des centroides\n",
    "Grâce à la matrice d'affectation, on peut maintenant trouver les nouveaux centroides. Ceux-ci sont déterminés en prenant les moyennes des ensembles des exemples qui sont affectés au même cluster.\n",
    "\n",
    "<font size=\"+1\" color=\"RED\">**[Q]**</font> Ecrire la fonction <code>nouveaux_centroides()</code> qui, étant donné une base d'apprentissage et une matrice d'affectation, rend l'ensemble des nouveaux centroides obtenus."
   ]
  },
  {
   "cell_type": "code",
   "execution_count": 53,
   "metadata": {},
   "outputs": [],
   "source": [
    "def nouveaux_centroides(df,base):\n",
    "    res = pd.DataFrame()\n",
    "    for i in base.keys():\n",
    "        res = res.append(df.iloc[base[i]].mean().to_frame().T)\n",
    "    return res\n"
   ]
  },
  {
   "cell_type": "code",
   "execution_count": 54,
   "metadata": {},
   "outputs": [
    {
     "data": {
      "text/html": [
       "<div>\n",
       "<style scoped>\n",
       "    .dataframe tbody tr th:only-of-type {\n",
       "        vertical-align: middle;\n",
       "    }\n",
       "\n",
       "    .dataframe tbody tr th {\n",
       "        vertical-align: top;\n",
       "    }\n",
       "\n",
       "    .dataframe thead th {\n",
       "        text-align: right;\n",
       "    }\n",
       "</style>\n",
       "<table border=\"1\" class=\"dataframe\">\n",
       "  <thead>\n",
       "    <tr style=\"text-align: right;\">\n",
       "      <th></th>\n",
       "      <th>X</th>\n",
       "      <th>Y</th>\n",
       "    </tr>\n",
       "  </thead>\n",
       "  <tbody>\n",
       "    <tr>\n",
       "      <th>0</th>\n",
       "      <td>0.438776</td>\n",
       "      <td>0.128571</td>\n",
       "    </tr>\n",
       "    <tr>\n",
       "      <th>0</th>\n",
       "      <td>0.607143</td>\n",
       "      <td>0.900000</td>\n",
       "    </tr>\n",
       "    <tr>\n",
       "      <th>0</th>\n",
       "      <td>0.571429</td>\n",
       "      <td>0.720000</td>\n",
       "    </tr>\n",
       "  </tbody>\n",
       "</table>\n",
       "</div>"
      ],
      "text/plain": [
       "          X         Y\n",
       "0  0.438776  0.128571\n",
       "0  0.607143  0.900000\n",
       "0  0.571429  0.720000"
      ]
     },
     "execution_count": 54,
     "metadata": {},
     "output_type": "execute_result"
    }
   ],
   "source": [
    "nouveaux_centroides(DataFnorm, DictAffect)"
   ]
  },
  {
   "cell_type": "markdown",
   "metadata": {},
   "source": [
    "### Inertie globale d'une partition\n",
    "\n",
    "<font size=\"+1\" color=\"RED\">**[Q]**</font> En utilisant la fonction <code>inertie_cluster()</code>, écrire la fonction <code>inertie_globale()</code> qui, étant donné une base d'apprentissage et une matrice d'affectation, rend la valeur de l'inertie globale du partitionnement correspondant.\n"
   ]
  },
  {
   "cell_type": "code",
   "execution_count": 55,
   "metadata": {},
   "outputs": [],
   "source": [
    "def inertie_globale(df,matrix):\n",
    "    som = 0\n",
    "    for i in matrix.values():\n",
    "        som += inertie_cluster(df.iloc[i])\n",
    "    return som"
   ]
  },
  {
   "cell_type": "code",
   "execution_count": 56,
   "metadata": {},
   "outputs": [
    {
     "data": {
      "text/plain": [
       "1.4100262390670553"
      ]
     },
     "execution_count": 56,
     "metadata": {},
     "output_type": "execute_result"
    }
   ],
   "source": [
    "inertie_globale(DataFnorm,DictAffect)"
   ]
  },
  {
   "cell_type": "markdown",
   "metadata": {},
   "source": [
    "### Algorithme des K-moyennes\n",
    "\n",
    "<font size=\"+1\" color=\"RED\">**[Q]**</font> En utilisant les fonctions précédentes, implémenter l'algorithme des K-moyennes.\n",
    "Pour cela, écrire une fonction <code>kmoyennes()</code> qui prend en argument un entier $K>1$, une base d'apprentissage, ainsi que deux nombres: un réel *epsilon*$>0$ et un entier *iter_max*$>1$, et qui rend un ensemble de centroides et une matrice d'affectation.\n",
    "\n",
    "Le réel *epsilon* servira de critère de convergence, et l'entier *iter_max* sera utilisé pour fixer un nombre d'itérations maximale servant à arrêter le calcul."
   ]
  },
  {
   "cell_type": "code",
   "execution_count": 57,
   "metadata": {},
   "outputs": [],
   "source": [
    "def kmoyennes(k,df,e,iter_max):\n",
    "    centros = initialisation(k,df)\n",
    "    prems = True\n",
    "    i = 0\n",
    "    while(i < iter_max):\n",
    "        dict_aff = affecte_cluster(df,centros)\n",
    "        centros = nouveaux_centroides(df,dict_aff)\n",
    "        if(not prems and abs(inertie_globale(df,dict_aff) - aux) < e):\n",
    "            return centros,dict_aff\n",
    "        aux = inertie_globale(df,dict_aff)\n",
    "        prems = False\n",
    "        i += 1\n",
    "    return centros,dict_aff\n",
    "    "
   ]
  },
  {
   "cell_type": "code",
   "execution_count": 58,
   "metadata": {},
   "outputs": [
    {
     "name": "stdout",
     "output_type": "stream",
     "text": [
      "Affichage des centres:            X         Y\n",
      "0  0.526786  0.737500\n",
      "0  0.488095  0.066667\n",
      "Affichage des affectations:  {0: [0, 1, 5, 6, 7, 9, 11, 13], 1: [2, 3, 4, 8, 10, 12]}\n"
     ]
    }
   ],
   "source": [
    "les_centres, l_affectation = kmoyennes(2, DataFnorm, 0.05, 100)\n",
    "\n",
    "print(\"Affichage des centres: \",les_centres)\n",
    "print(\"Affichage des affectations: \",l_affectation)"
   ]
  },
  {
   "cell_type": "code",
   "execution_count": 59,
   "metadata": {},
   "outputs": [
    {
     "name": "stdout",
     "output_type": "stream",
     "text": [
      "Affichage des centres:            X         Y\n",
      "0  0.171429  0.260000\n",
      "0  0.678571  0.800000\n",
      "0  0.738095  0.066667\n",
      "Affichage des affectations:  {0: [0, 1, 2, 3, 4], 1: [5, 6, 7, 9, 11, 13], 2: [8, 10, 12]}\n"
     ]
    }
   ],
   "source": [
    "les_centres, l_affectation = kmoyennes(3, DataFnorm, 0.05, 100)\n",
    "\n",
    "print(\"Affichage des centres: \",les_centres)\n",
    "print(\"Affichage des affectations: \",l_affectation)"
   ]
  },
  {
   "cell_type": "markdown",
   "metadata": {},
   "source": [
    "On peut réaliser un affichage couleur des centroïdes trouvés:"
   ]
  },
  {
   "cell_type": "code",
   "execution_count": 60,
   "metadata": {},
   "outputs": [
    {
     "data": {
      "text/plain": [
       "<matplotlib.collections.PathCollection at 0x113843b70>"
      ]
     },
     "execution_count": 60,
     "metadata": {},
     "output_type": "execute_result"
    },
    {
     "data": {
      "image/png": "[encoded data removed]",
      "text/plain": [
       "<Figure size 432x288 with 1 Axes>"
      ]
     },
     "metadata": {
      "needs_background": "light"
     },
     "output_type": "display_data"
    }
   ],
   "source": [
    "plt.scatter(DataFnorm['X'],DataFnorm['Y'],color='b')\n",
    "plt.scatter(les_centres['X'],les_centres['Y'],color='r',marker='x')"
   ]
  },
  {
   "cell_type": "markdown",
   "metadata": {},
   "source": [
    "<font size=\"+1\" color=\"RED\">**[Q]**</font> Ecrire la fonction <code>affiche_resultat()</code> qui permet d'afficher le résultat de l'algorithme en utilisant des couleurs différentes pour les clusters trouvés (pour faire simple, on peut ne considèrer que le cas où K vaut 3).\n",
    "\n",
    "*Remarque*: La librairie matplotlib permet de manipuler aisément des couleurs:\n",
    "http://matplotlib.org/api/cm_api.html"
   ]
  },
  {
   "cell_type": "code",
   "execution_count": 63,
   "metadata": {},
   "outputs": [],
   "source": [
    "def affiche_resultat(df,centroides,matrice):\n",
    "    label = df.columns.values\n",
    "    x = label[0]\n",
    "    y = label[1]\n",
    "    for i in matrice.values():\n",
    "        tmp = df.iloc[i]\n",
    "        c = np.random.rand(3)\n",
    "        plt.scatter(tmp[x],tmp[y],color=c)\n",
    "    plt.scatter(les_centres['X'],les_centres['Y'],color='r',marker='x')"
   ]
  },
  {
   "cell_type": "code",
   "execution_count": 64,
   "metadata": {},
   "outputs": [
    {
     "data": {
      "image/png": "[encoded data removed]",
      "text/plain": [
       "<Figure size 432x288 with 1 Axes>"
      ]
     },
     "metadata": {
      "needs_background": "light"
     },
     "output_type": "display_data"
    }
   ],
   "source": [
    "affiche_resultat(DataFnorm,les_centres,l_affectation)"
   ]
  },
  {
   "cell_type": "markdown",
   "metadata": {},
   "source": [
    "### Expérimentations\n",
    "\n",
    "<font size=\"+1\" color=\"RED\">**[Q]**</font> Expérimenter l'algorithme des k-moyennes sur les données. Etudier l'impact du choix de $K$ sur l'inertie globale finale. Faire de même en relançant plusieurs fois l'algorithme avec la même valeur de $K$, en modifiant la valeur de epsilon ou de max_iter, etc."
   ]
  },
  {
   "cell_type": "markdown",
   "metadata": {},
   "source": [
    "## Application à des données réelles\n",
    "\n",
    "- Appliquer l'algorithme aux données concernant les déchets de la ville de Paris (qui sont fournies dans le répertoire data)\n",
    "- Trouver des bases d'apprentissage intéressantes sur http://opendata.paris.fr/\n",
    "\n",
    "\n",
    "Dans les 2 cas, étudier la base et les clusters qui peuvent être mis en évidence. En particulier, regarder la variation de l'inertie globale des clusters obtenus en fonction de la valeur de $K$ choisie.\n",
    "\n",
    "\n",
    "**Attention**: il faudra certainement préparer cette base afin de pouvoir appliquer l'algorithme de clustering: en particulier, certaines colonnes (Granularité, Total...) ne sont pas à utilisables dans le calcul des distances, il faudra donc les éliminer. Il faut aussi prévoir de conserver le nom de l'arrondissement afin de pouvoir à la fin analyser le résultat du clustering."
   ]
  },
  {
   "cell_type": "markdown",
   "metadata": {},
   "source": [
    "## Questions de cours (à faire chez vous, sur papier)\n",
    "\n",
    "Pour vous entraîner sans machine...\n",
    "\n",
    "<font size=\"+1\" color=\"RED\">**[Q]**</font> On considère un ensemble fini $U$ d'éléments. \n",
    "- donner la fonction caractéristique de $U$\n",
    "- donner la fonction caractéristique de l'ensemble vide\n",
    "- soit $E$ et $F$ deux sous-ensembles de $U$ définis par leurs fonctions caractéristiques $\\chi_E$ et $\\chi_F$. En déduire les fonctions caractéristiques de $E\\cup F$, de $E\\cap F$ et de $E^{c}$. *(indice: penser au min et au max)*\n",
    "\n",
    "<font size=\"+1\" color=\"RED\">**[Q]**</font> Rappeler la définition d'une partition $P$ d'un ensemble $X$ en $K$ sous-ensembles. \n",
    "\n",
    "<font size=\"+1\" color=\"RED\">**[Q]**</font> Appliquer, à la main, l'algorithme des K-moyennes sur les données fournies sur le transparent 10 du cours 8 en utilisant d'abord $K=2$, puis $K=3$. Dans chacun des cas, réaliser au maximum 10 itérations de l'algorithme ($t_{max}=10$).\n",
    "Comparer les résultats obtenus.\n",
    "\n",
    "\n",
    "---"
   ]
  }
 ],
 "metadata": {
  "kernelspec": {
   "display_name": "Python 3",
   "language": "python",
   "name": "python3"
  },
  "language_info": {
   "codemirror_mode": {
    "name": "ipython",
    "version": 3
   },
   "file_extension": ".py",
   "mimetype": "text/x-python",
   "name": "python",
   "nbconvert_exporter": "python",
   "pygments_lexer": "ipython3",
   "version": "3.7.1"
  }
 },
 "nbformat": 4,
 "nbformat_minor": 2
}
